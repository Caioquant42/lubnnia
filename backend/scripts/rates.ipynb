{
 "cells": [
  {
   "cell_type": "code",
   "execution_count": 2,
   "id": "83825d2d",
   "metadata": {},
   "outputs": [],
   "source": [
    "# Define API key and headers\n",
    "headers = {\n",
    "    'Access-Token': 'q/N/OI3UnW+xmEUbYDK8FyIil8ymjM+J2VPefo+1qO2ni4kd2BIU4YGUzzTmAOJr--GcuwyydDFxVCE0+FC3yKoA==--NzM3YzdjZjkyYWQ0ZWJlNTZlZjkzOTVmOTIyMGNjODE='\n",
    "}\n",
    "\n",
    "# Define base URL for the new API endpoint\n",
    "riskfree_base_url = 'https://api.oplab.com.br/v3/market/interest_rates/{id}'\n"
   ]
  },
  {
   "cell_type": "code",
   "execution_count": 3,
   "id": "27f7ffeb",
   "metadata": {},
   "outputs": [],
   "source": [
    "import requests\n",
    "from typing import Dict, Optional\n",
    "from datetime import datetime"
   ]
  },
  {
   "cell_type": "code",
   "execution_count": 4,
   "id": "50d5d987",
   "metadata": {},
   "outputs": [],
   "source": [
    "def fetch_interest_rate(rate_id: str) -> Optional[Dict]:\n",
    "    \"\"\"\n",
    "    Fetch interest rate data from the API.\n",
    "    Args:\n",
    "        rate_id (str): Interest rate ID ('CETIP' or 'SELIC')\n",
    "    Returns:\n",
    "        dict: Interest rate data or None if request fails\n",
    "    \"\"\"\n",
    "    url = riskfree_base_url.format(id=rate_id)\n",
    "    try:\n",
    "        response = requests.get(url, headers=headers)\n",
    "        if response.status_code == 200:\n",
    "            return response.json()\n",
    "        elif response.status_code == 204:\n",
    "            print(f\"No data available for {rate_id}\")\n",
    "        elif response.status_code == 401:\n",
    "            print(\"Unauthorized access\")\n",
    "        return None\n",
    "    except Exception as e:\n",
    "        print(f\"Error fetching {rate_id} data: {str(e)}\")\n",
    "        return None"
   ]
  },
  {
   "cell_type": "code",
   "execution_count": 5,
   "id": "5e66d24f",
   "metadata": {},
   "outputs": [
    {
     "name": "stdout",
     "output_type": "stream",
     "text": [
      "CETIP Data: {'uid': 'CETIP', 'name': 'Taxa DI', 'value': 14.15, 'updated_at': '2025-05-01T10:28:33.871Z'}\n",
      "SELIC Data: {'uid': 'SELIC', 'name': 'Taxa Selic', 'value': 14.150020022937992, 'updated_at': '2025-05-01T10:18:05.067Z'}\n"
     ]
    }
   ],
   "source": [
    "# Example usage\n",
    "cetip_data = fetch_interest_rate('CETIP')\n",
    "selic_data = fetch_interest_rate('SELIC')\n",
    "\n",
    "print(\"CETIP Data:\", cetip_data)\n",
    "print(\"SELIC Data:\", selic_data)"
   ]
  },
  {
   "cell_type": "code",
   "execution_count": null,
   "id": "79268433",
   "metadata": {},
   "outputs": [],
   "source": []
  }
 ],
 "metadata": {
  "kernelspec": {
   "display_name": "backenv",
   "language": "python",
   "name": "python3"
  },
  "language_info": {
   "codemirror_mode": {
    "name": "ipython",
    "version": 3
   },
   "file_extension": ".py",
   "mimetype": "text/x-python",
   "name": "python",
   "nbconvert_exporter": "python",
   "pygments_lexer": "ipython3",
   "version": "3.10.16"
  }
 },
 "nbformat": 4,
 "nbformat_minor": 5
}
